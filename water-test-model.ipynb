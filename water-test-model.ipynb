{
 "cells": [
  {
   "cell_type": "markdown",
   "id": "fde62c05-60bb-440d-85a4-8f4cc1b4c110",
   "metadata": {},
   "source": [
    "# Data Cleaning"
   ]
  },
  {
   "cell_type": "code",
   "execution_count": 2,
   "id": "b776c2af-9941-44f5-b232-8280013755ee",
   "metadata": {},
   "outputs": [],
   "source": [
    "import seaborn as sn\n",
    "import matplotlib.pyplot as plt\n",
    "from sklearn.model_selection import train_test_split\n",
    "from sklearn.linear_model import LogisticRegression\n",
    "from sklearn.metrics import accuracy_score, confusion_matrix\n",
    "import numpy as np\n",
    "import pandas as pd"
   ]
  },
  {
   "cell_type": "code",
   "execution_count": 3,
   "id": "479415b2-61a9-4267-ad3c-30311049cdab",
   "metadata": {},
   "outputs": [
    {
     "data": {
      "text/html": [
       "<div>\n",
       "<style scoped>\n",
       "    .dataframe tbody tr th:only-of-type {\n",
       "        vertical-align: middle;\n",
       "    }\n",
       "\n",
       "    .dataframe tbody tr th {\n",
       "        vertical-align: top;\n",
       "    }\n",
       "\n",
       "    .dataframe thead th {\n",
       "        text-align: right;\n",
       "    }\n",
       "</style>\n",
       "<table border=\"1\" class=\"dataframe\">\n",
       "  <thead>\n",
       "    <tr style=\"text-align: right;\">\n",
       "      <th></th>\n",
       "      <th>ph</th>\n",
       "      <th>Hardness</th>\n",
       "      <th>Solids</th>\n",
       "      <th>Chloramines</th>\n",
       "      <th>Sulfate</th>\n",
       "      <th>Conductivity</th>\n",
       "      <th>Organic_carbon</th>\n",
       "      <th>Trihalomethanes</th>\n",
       "      <th>Turbidity</th>\n",
       "      <th>Potability</th>\n",
       "    </tr>\n",
       "  </thead>\n",
       "  <tbody>\n",
       "    <tr>\n",
       "      <th>0</th>\n",
       "      <td>NaN</td>\n",
       "      <td>204.890455</td>\n",
       "      <td>20791.318981</td>\n",
       "      <td>7.300212</td>\n",
       "      <td>368.516441</td>\n",
       "      <td>564.308654</td>\n",
       "      <td>10.379783</td>\n",
       "      <td>86.990970</td>\n",
       "      <td>2.963135</td>\n",
       "      <td>0</td>\n",
       "    </tr>\n",
       "    <tr>\n",
       "      <th>1</th>\n",
       "      <td>3.716080</td>\n",
       "      <td>129.422921</td>\n",
       "      <td>18630.057858</td>\n",
       "      <td>6.635246</td>\n",
       "      <td>NaN</td>\n",
       "      <td>592.885359</td>\n",
       "      <td>15.180013</td>\n",
       "      <td>56.329076</td>\n",
       "      <td>4.500656</td>\n",
       "      <td>0</td>\n",
       "    </tr>\n",
       "    <tr>\n",
       "      <th>2</th>\n",
       "      <td>8.099124</td>\n",
       "      <td>224.236259</td>\n",
       "      <td>19909.541732</td>\n",
       "      <td>9.275884</td>\n",
       "      <td>NaN</td>\n",
       "      <td>418.606213</td>\n",
       "      <td>16.868637</td>\n",
       "      <td>66.420093</td>\n",
       "      <td>3.055934</td>\n",
       "      <td>0</td>\n",
       "    </tr>\n",
       "    <tr>\n",
       "      <th>3</th>\n",
       "      <td>8.316766</td>\n",
       "      <td>214.373394</td>\n",
       "      <td>22018.417441</td>\n",
       "      <td>8.059332</td>\n",
       "      <td>356.886136</td>\n",
       "      <td>363.266516</td>\n",
       "      <td>18.436524</td>\n",
       "      <td>100.341674</td>\n",
       "      <td>4.628771</td>\n",
       "      <td>0</td>\n",
       "    </tr>\n",
       "    <tr>\n",
       "      <th>4</th>\n",
       "      <td>9.092223</td>\n",
       "      <td>181.101509</td>\n",
       "      <td>17978.986339</td>\n",
       "      <td>6.546600</td>\n",
       "      <td>310.135738</td>\n",
       "      <td>398.410813</td>\n",
       "      <td>11.558279</td>\n",
       "      <td>31.997993</td>\n",
       "      <td>4.075075</td>\n",
       "      <td>0</td>\n",
       "    </tr>\n",
       "  </tbody>\n",
       "</table>\n",
       "</div>"
      ],
      "text/plain": [
       "         ph    Hardness        Solids  Chloramines     Sulfate  Conductivity  \\\n",
       "0       NaN  204.890455  20791.318981     7.300212  368.516441    564.308654   \n",
       "1  3.716080  129.422921  18630.057858     6.635246         NaN    592.885359   \n",
       "2  8.099124  224.236259  19909.541732     9.275884         NaN    418.606213   \n",
       "3  8.316766  214.373394  22018.417441     8.059332  356.886136    363.266516   \n",
       "4  9.092223  181.101509  17978.986339     6.546600  310.135738    398.410813   \n",
       "\n",
       "   Organic_carbon  Trihalomethanes  Turbidity  Potability  \n",
       "0       10.379783        86.990970   2.963135           0  \n",
       "1       15.180013        56.329076   4.500656           0  \n",
       "2       16.868637        66.420093   3.055934           0  \n",
       "3       18.436524       100.341674   4.628771           0  \n",
       "4       11.558279        31.997993   4.075075           0  "
      ]
     },
     "execution_count": 3,
     "metadata": {},
     "output_type": "execute_result"
    }
   ],
   "source": [
    "df_water = pd.read_csv('water_potability.csv')\n",
    "df_water.head()"
   ]
  },
  {
   "cell_type": "code",
   "execution_count": 4,
   "id": "37a7bfe6-22bd-48ea-9876-4d04bd8a66b4",
   "metadata": {},
   "outputs": [
    {
     "name": "stdout",
     "output_type": "stream",
     "text": [
      "NaN values in water dataset : \n"
     ]
    },
    {
     "data": {
      "text/plain": [
       "1434"
      ]
     },
     "execution_count": 4,
     "metadata": {},
     "output_type": "execute_result"
    }
   ],
   "source": [
    "print('NaN values in water dataset : ')\n",
    "df_water.isna().sum().sum()"
   ]
  },
  {
   "cell_type": "code",
   "execution_count": 5,
   "id": "d70daccf-8dd8-4dd3-b022-312a17a88a2f",
   "metadata": {},
   "outputs": [
    {
     "name": "stdout",
     "output_type": "stream",
     "text": [
      "<class 'pandas.core.frame.DataFrame'>\n",
      "RangeIndex: 3276 entries, 0 to 3275\n",
      "Data columns (total 10 columns):\n",
      " #   Column           Non-Null Count  Dtype  \n",
      "---  ------           --------------  -----  \n",
      " 0   ph               2785 non-null   float64\n",
      " 1   Hardness         3276 non-null   float64\n",
      " 2   Solids           3276 non-null   float64\n",
      " 3   Chloramines      3276 non-null   float64\n",
      " 4   Sulfate          2495 non-null   float64\n",
      " 5   Conductivity     3276 non-null   float64\n",
      " 6   Organic_carbon   3276 non-null   float64\n",
      " 7   Trihalomethanes  3114 non-null   float64\n",
      " 8   Turbidity        3276 non-null   float64\n",
      " 9   Potability       3276 non-null   int64  \n",
      "dtypes: float64(9), int64(1)\n",
      "memory usage: 256.1 KB\n"
     ]
    }
   ],
   "source": [
    "df_water.info()"
   ]
  },
  {
   "cell_type": "code",
   "execution_count": 5,
   "id": "a48ad607-c47b-455d-9be4-e6228496e9d0",
   "metadata": {},
   "outputs": [],
   "source": [
    "df_clean = df_water.fillna(df_water.mean())"
   ]
  },
  {
   "cell_type": "code",
   "execution_count": 6,
   "id": "4ff89146-00b6-4d3e-b8c4-e0f4bcd304db",
   "metadata": {},
   "outputs": [
    {
     "name": "stdout",
     "output_type": "stream",
     "text": [
      "Sum of NaN values after cleaning :  ph                 0\n",
      "Hardness           0\n",
      "Solids             0\n",
      "Chloramines        0\n",
      "Sulfate            0\n",
      "Conductivity       0\n",
      "Organic_carbon     0\n",
      "Trihalomethanes    0\n",
      "Turbidity          0\n",
      "Potability         0\n",
      "dtype: int64\n"
     ]
    }
   ],
   "source": [
    "print('Sum of NaN values after cleaning : ', df_clean.isnull().sum())"
   ]
  },
  {
   "cell_type": "code",
   "execution_count": 7,
   "id": "2b33743e-0f50-4f00-9155-7e58886cecbc",
   "metadata": {},
   "outputs": [
    {
     "data": {
      "text/plain": [
       "ph                 2.319668e+04\n",
       "Hardness           6.433065e+05\n",
       "Solids             7.211817e+07\n",
       "Chloramines        2.333258e+04\n",
       "Sulfate            1.093449e+06\n",
       "Conductivity       1.396248e+06\n",
       "Organic_carbon     4.679756e+04\n",
       "Trihalomethanes    2.175143e+05\n",
       "Turbidity          1.299519e+04\n",
       "Potability         1.278000e+03\n",
       "dtype: float64"
      ]
     },
     "execution_count": 7,
     "metadata": {},
     "output_type": "execute_result"
    }
   ],
   "source": [
    "df_clean.sum()"
   ]
  },
  {
   "cell_type": "markdown",
   "id": "a0d5812e-cbe6-4f74-9896-1aab33fd94a8",
   "metadata": {},
   "source": [
    "# Feature Selection"
   ]
  },
  {
   "cell_type": "code",
   "execution_count": 8,
   "id": "1edc06f7-e752-4b68-abb7-36ef89599b24",
   "metadata": {},
   "outputs": [
    {
     "data": {
      "text/plain": [
       "<Axes: >"
      ]
     },
     "execution_count": 8,
     "metadata": {},
     "output_type": "execute_result"
    },
    {
     "data": {
      "image/png": "[encoded data removed]",
      "text/plain": [
       "<Figure size 640x480 with 2 Axes>"
      ]
     },
     "metadata": {},
     "output_type": "display_data"
    }
   ],
   "source": [
    "sn.heatmap(df_clean.corr())"
   ]
  },
  {
   "cell_type": "code",
   "execution_count": 9,
   "id": "21a70d17-af72-41de-8ded-f7455b7fdfcd",
   "metadata": {},
   "outputs": [],
   "source": [
    "x = df_clean[list(df_clean.columns)[0:-1]]"
   ]
  },
  {
   "cell_type": "code",
   "execution_count": 10,
   "id": "776855bf-1db0-4c99-aed7-01d401acc8ff",
   "metadata": {},
   "outputs": [],
   "source": [
    "y = df_clean['Potability']"
   ]
  },
  {
   "cell_type": "code",
   "execution_count": 11,
   "id": "cdd353b0-45f1-45d2-b71b-76d6aa71ccbe",
   "metadata": {},
   "outputs": [
    {
     "data": {
      "text/plain": [
       "Potability\n",
       "0    1998\n",
       "1    1278\n",
       "Name: count, dtype: int64"
      ]
     },
     "execution_count": 11,
     "metadata": {},
     "output_type": "execute_result"
    }
   ],
   "source": [
    "y.value_counts()"
   ]
  },
  {
   "cell_type": "markdown",
   "id": "a66e249d-2e29-4ddb-a66f-6318c831b959",
   "metadata": {},
   "source": [
    "# Data Balancing"
   ]
  },
  {
   "cell_type": "code",
   "execution_count": 12,
   "id": "0d058764-868e-4cee-9b9c-bbe63ef696de",
   "metadata": {},
   "outputs": [],
   "source": [
    "from imblearn.over_sampling import RandomOverSampler\n",
    "from collections import Counter"
   ]
  },
  {
   "cell_type": "code",
   "execution_count": 13,
   "id": "db76d0df-33e0-473c-8b41-f315fcc3c2b8",
   "metadata": {},
   "outputs": [],
   "source": [
    "# Separate features and target\n",
    "X = df_clean.drop(\"Potability\", axis=1)  \n",
    "y = df_clean[\"Potability\"]"
   ]
  },
  {
   "cell_type": "code",
   "execution_count": 14,
   "id": "9bc6769f-ad74-4a03-b265-d81eae0edcfc",
   "metadata": {},
   "outputs": [
    {
     "name": "stdout",
     "output_type": "stream",
     "text": [
      "Before Upsampling: Counter({0: 1998, 1: 1278})\n"
     ]
    }
   ],
   "source": [
    "print(\"Before Upsampling:\", Counter(y))"
   ]
  },
  {
   "cell_type": "code",
   "execution_count": 15,
   "id": "869094bc-2c81-4277-a6ea-685504f85436",
   "metadata": {},
   "outputs": [],
   "source": [
    "# Upsampling\n",
    "ros = RandomOverSampler(sampling_strategy={0: 2000, 1: 2000}, random_state=42)\n",
    "X_resampled, y_resampled = ros.fit_resample(X, y)"
   ]
  },
  {
   "cell_type": "code",
   "execution_count": 16,
   "id": "41719400-b72f-4af8-a292-098c3d35c35a",
   "metadata": {},
   "outputs": [
    {
     "name": "stdout",
     "output_type": "stream",
     "text": [
      "After Upsampling: Counter({0: 2000, 1: 2000})\n"
     ]
    }
   ],
   "source": [
    "print(\"After Upsampling:\", Counter(y_resampled))"
   ]
  },
  {
   "cell_type": "code",
   "execution_count": null,
   "id": "05b28b4f-3527-4870-9712-b250ab31b61a",
   "metadata": {},
   "outputs": [],
   "source": []
  },
  {
   "cell_type": "markdown",
   "id": "1f254a32-30a8-4ed9-a304-50b191ce0bce",
   "metadata": {},
   "source": [
    "# Data Splitting"
   ]
  },
  {
   "cell_type": "code",
   "execution_count": 17,
   "id": "4141f386-f6ac-4523-b406-60fde04b0950",
   "metadata": {},
   "outputs": [],
   "source": [
    "#x_train, x_test, y_train, y_test = train_test_split(x , y, train_size = 0.8, random_state = 42)\n",
    "X_train, X_test, y_train, y_test = train_test_split(X_resampled, y_resampled, test_size=0.2, random_state=42)"
   ]
  },
  {
   "cell_type": "code",
   "execution_count": 18,
   "id": "763feb61-e43e-45a6-b2b7-45728a42e5a3",
   "metadata": {},
   "outputs": [
    {
     "name": "stdout",
     "output_type": "stream",
     "text": [
      "Number of Records in Train Data :  (3200, 9)\n",
      "Number of Records in Test Data :  (800, 9)\n"
     ]
    }
   ],
   "source": [
    "print(\"Number of Records in Train Data : \", X_train.shape)\n",
    "print('Number of Records in Test Data : ', X_test.shape)"
   ]
  },
  {
   "cell_type": "markdown",
   "id": "c51dbf65-3232-4135-8c4a-435b5a2a309f",
   "metadata": {},
   "source": [
    "# Model Building"
   ]
  },
  {
   "cell_type": "code",
   "execution_count": 19,
   "id": "55369466-cea7-412d-ae63-60d67631100c",
   "metadata": {},
   "outputs": [
    {
     "name": "stdout",
     "output_type": "stream",
     "text": [
      "Accuracy : 78.12 % \n"
     ]
    },
    {
     "data": {
      "text/plain": [
       "<Axes: >"
      ]
     },
     "execution_count": 19,
     "metadata": {},
     "output_type": "execute_result"
    },
    {
     "data": {
      "image/png": "[encoded data removed]",
      "text/plain": [
       "<Figure size 500x500 with 2 Axes>"
      ]
     },
     "metadata": {},
     "output_type": "display_data"
    }
   ],
   "source": [
    "from sklearn.ensemble import RandomForestClassifier\n",
    "model = RandomForestClassifier()\n",
    "model.fit(X_train, y_train)\n",
    "pred = model.predict(X_test)\n",
    "print(f'Accuracy : {round(100 * accuracy_score(y_test, pred), 2)} % ')\n",
    "plt.figure(figsize = (5, 5))\n",
    "sn.heatmap(confusion_matrix(y_test, pred), annot = True, fmt = '2g')"
   ]
  },
  {
   "cell_type": "code",
   "execution_count": 20,
   "id": "0c122c05-9c5a-4054-849f-68f22e0ad9a5",
   "metadata": {},
   "outputs": [],
   "source": [
    "sample = X_test.loc[1578 , :]"
   ]
  },
  {
   "cell_type": "code",
   "execution_count": 21,
   "id": "c8a87d07-ab80-4927-ab7c-6c61f4421226",
   "metadata": {},
   "outputs": [
    {
     "name": "stderr",
     "output_type": "stream",
     "text": [
      "c:\\Users\\lenovo\\anaconda3\\Lib\\site-packages\\sklearn\\base.py:493: UserWarning: X does not have valid feature names, but RandomForestClassifier was fitted with feature names\n",
      "  warnings.warn(\n"
     ]
    }
   ],
   "source": [
    "pred = model.predict([sample])"
   ]
  },
  {
   "cell_type": "code",
   "execution_count": 22,
   "id": "ce49ff1d-9462-4a8c-854c-9a2b494d938e",
   "metadata": {},
   "outputs": [
    {
     "data": {
      "text/plain": [
       "array([0], dtype=int64)"
      ]
     },
     "execution_count": 22,
     "metadata": {},
     "output_type": "execute_result"
    }
   ],
   "source": [
    "pred"
   ]
  },
  {
   "cell_type": "code",
   "execution_count": 23,
   "id": "684d2454-11e5-42f4-bbbb-ed874bbdbeb7",
   "metadata": {},
   "outputs": [],
   "source": [
    "#import pickle\n",
    "#pickle.dump(model, open(\"water-test-model\", \"wb\"))\n",
    "#model = pickle.load(open(r\"C:\\Users\\lenovo\\HCCDA-AI\\Water App\\water-test-model\", \"rb\"))\n",
    "import pickle\n",
    "import os\n",
    "\n",
    "# Save the model first\n",
    "pickle.dump(model, open(\"water-test-model\", \"wb\"))\n",
    "\n",
    "# Define the correct path to your file\n",
    "# Make sure this path actually exists on your system\n",
    "file_path = r\"C:\\Users\\lenovo\\HCCDA-AI\\Water App\\water-test-model\"\n",
    "\n",
    "# Check if the file exists before trying to load it\n",
    "if os.path.exists(file_path):\n",
    "    model = pickle.load(open(file_path, \"rb\"))\n",
    "else:\n",
    "    print(f\"File not found at: {file_path}\")\n",
    "    # You might want to create the directory if it doesn't exist\n",
    "    # os.makedirs(os.path.dirname(file_path), exist_ok=True)\n",
    "    # Or use a different path where you have write permissions"
   ]
  },
  {
   "cell_type": "code",
   "execution_count": 24,
   "id": "373d80cb-2e99-475b-9237-34bc74f86a79",
   "metadata": {},
   "outputs": [],
   "source": [
    "import pickle\n",
    "\n",
    "with open(\"water-test-model.pkl\", \"wb\") as f:\n",
    "    pickle.dump(model, f)\n"
   ]
  },
  {
   "cell_type": "code",
   "execution_count": null,
   "id": "8576f215",
   "metadata": {},
   "outputs": [],
   "source": []
  }
 ],
 "metadata": {
  "kernelspec": {
   "display_name": "base",
   "language": "python",
   "name": "python3"
  },
  "language_info": {
   "codemirror_mode": {
    "name": "ipython",
    "version": 3
   },
   "file_extension": ".py",
   "mimetype": "text/x-python",
   "name": "python",
   "nbconvert_exporter": "python",
   "pygments_lexer": "ipython3",
   "version": "3.12.7"
  }
 },
 "nbformat": 4,
 "nbformat_minor": 5
}
